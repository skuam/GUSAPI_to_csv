{
 "cells": [
  {
   "cell_type": "markdown",
   "source": [
    "<h1>Projket ekonometrtia</h1>\n",
    "<h2>Uczelnia itd</h2>\n",
    "<h2>Mateusz Jakubczak</h2>\n"
   ],
   "metadata": {
    "collapsed": false
   }
  },
  {
   "cell_type": "markdown",
   "source": [
    "Cytowania \n",
    "\n",
    "@inproceedings{seabold2010statsmodels,\n",
    "  title={statsmodels: Econometric and statistical modeling with python},\n",
    "  author={Seabold, Skipper and Perktold, Josef},\n",
    "  booktitle={9th Python in Science Conference},\n",
    "  year={2010},\n",
    "}\n",
    "\n"
   ],
   "metadata": {
    "collapsed": false
   }
  },
  {
   "cell_type": "markdown",
   "source": [
    "<h3>Abstrakt cell projektu, hipoteza badawcza \n",
    "\n"
   ],
   "metadata": {
    "collapsed": false
   }
  },
  {
   "cell_type": "markdown",
   "source": [
    "<h3>Pobieranie danych\n"
   ],
   "metadata": {
    "collapsed": false
   }
  },
  {
   "cell_type": "code",
   "execution_count": 19,
   "outputs": [],
   "source": [
    "import requests\n",
    "from bs4 import BeautifulSoup\n",
    "import re\n",
    "import csv\n",
    "import os\n",
    "import unicodecsv\n",
    "import pandas as pd"
   ],
   "metadata": {
    "collapsed": false,
    "pycharm": {
     "name": "#%%\n",
     "is_executing": false
    }
   }
  },
  {
   "cell_type": "code",
   "execution_count": 20,
   "outputs": [],
   "source": [
    "#pare zmiennych globalnych \n",
    "\n",
    "\n",
    "with open(\"linki.csv\",newline=\"\") as csvfile:\n",
    "    reader = csv.reader(csvfile)\n",
    "    links2 = list(reader)\n",
    " \n",
    "links =  [item for sublist in links2[1:] for item in sublist]\n",
    "\n",
    "znaczniki ={\"Cena\":\"_1svub _lf05o _9a071_2MEB_\"}\n",
    "\n",
    "lista_parametrów = [\"Cena\",\"Stan\",\"Typ telewizora\",\"Marka\",\n",
    "                    \"Technologia 3D\", \"Przekątna ekranu\",\n",
    "                    \"Format HD\",\"Rozdzielczość ekranu\",\n",
    "                    \"Liczba złączy HDMI\", \"Technologia HDR\",\n",
    "                    \"Klasa efektywności\",\"Pobór mocy\",\n",
    "                    \"Waga produktu\"\n",
    "                    ]\n",
    "\n",
    "\n",
    "#with open(os.path.join(os.getcwd(), 'parametry.csv'), 'wb') as csvfile:\n",
    " #   writer = unicodecsv.DictWriter(csvfile, fieldnames = lista_parametrów , delimiter = ';')\n",
    "  #  writer.writeheader()\n",
    "    "
   ],
   "metadata": {
    "collapsed": false,
    "pycharm": {
     "name": "#%% \n",
     "is_executing": false
    }
   }
  },
  {
   "cell_type": "code",
   "execution_count": null,
   "outputs": [],
   "source": [
    "for link in links:\n",
    "    parmaetry = []\n",
    "    response = requests.get(link)\n",
    "   # print(response)\n",
    "    \n",
    "    # znalazeinei ceny \n",
    "    soup = BeautifulSoup(response.content,'html.parser')\n",
    "    #nalezalo by zastapic lepszym wyszukaniem\n",
    "    try:\n",
    "        cena = soup.find(class_=znaczniki[\"Cena\"] )\n",
    "        # przejsc do dolu dwa razy po pierwszym elemencie \n",
    "        cena = cena.contents[0].contents[0]\n",
    "    except:\n",
    "        AttributeError\n",
    "        print(link)\n",
    "        continue\n",
    "    parmaetry.append(cena)\n",
    "    #zanjdowanie tabeli parametrow \n",
    "    pattern = re.compile(r'Parametry')\n",
    "    tabela = soup.find(\"h2\",text= pattern)\n",
    "    #do gory dwa poziomy \n",
    "    tabela = tabela.parent.parent\n",
    "   \n",
    "    for param in lista_parametrów[1:]:\n",
    "        try:\n",
    "            #najpier znajdz czy jest pole ktore nazywa sie dokladnie tak\n",
    "            stan_field = tabela.find(text = param)\n",
    "            #jesli nie ma takiego pola znajdz pierwsze które nazywa sie podobnie\n",
    "            if stan_field == None:  stan_field = tabela.find(text = re.compile(rf\"{param}\"))\n",
    "            #jesli nie znalioziona to wpisac -1\n",
    "            if stan_field == None: stan_field = -1\n",
    "            #up two nodes in tree then select content of second one\n",
    "            stan_field = stan_field.parent.parent.contents[1].contents[0]\n",
    "            try:\n",
    "                if stan_field.contents != None : stan_field = stan_field.contents[0]\n",
    "            except:\n",
    "                AttributeError   #dla pól co zawieraja w sobie linka \n",
    "        except:\n",
    "            AttributeError \n",
    "            print(f\"Nie ma takiego parametru, parametr {param}\") \n",
    "            stan_field = -1\n",
    "        parmaetry.append(stan_field)\n",
    "    with open('parametry.csv', 'ab') as csvfile:\n",
    "        writer = unicodecsv.DictWriter(csvfile, fieldnames = lista_parametrów , delimiter = ';')\n",
    "        writer.writerow(dict(zip(lista_parametrów,parmaetry)))"
   ],
   "metadata": {
    "collapsed": false,
    "pycharm": {
     "name": "#%%\n",
     "is_executing": false
    }
   }
  },
  {
   "cell_type": "markdown",
   "source": [
    "<h3>Staystyki opisowe"
   ],
   "metadata": {
    "collapsed": false,
    "pycharm": {
     "name": "#%% md\n"
    }
   }
  },
  {
   "cell_type": "code",
   "execution_count": 21,
   "outputs": [],
   "source": [
    "import numpy as np\n",
    "import scipy.stats as ss\n",
    "import seaborn as sns\n",
    "\n",
    "def cramers_v(x, y):\n",
    "    confusion_matrix = pd.crosstab(x,y)\n",
    "    chi2 = ss.chi2_contingency(confusion_matrix)[0]\n",
    "    n = confusion_matrix.sum().sum()\n",
    "    phi2 = chi2/n\n",
    "    r,k = confusion_matrix.shape\n",
    "    phi2corr = max(0, phi2-((k-1)*(r-1))/(n-1))\n",
    "    rcorr = r-((r-1)**2)/(n-1)\n",
    "    kcorr = k-((k-1)**2)/(n-1)\n",
    "    return np.sqrt(phi2corr/min((kcorr-1),(rcorr-1)))"
   ],
   "metadata": {
    "collapsed": false,
    "pycharm": {
     "name": "#%%\n",
     "is_executing": false
    }
   }
  },
  {
   "cell_type": "code",
   "execution_count": 99,
   "outputs": [
    {
     "data": {
      "text/plain": "Samsung        28\ninna           20\nLG             15\nSony            6\nPhilips         6\nKruger&Matz     6\nName: Marka, dtype: int64"
     },
     "metadata": {},
     "output_type": "execute_result",
     "execution_count": 99
    }
   ],
   "source": [
    "from pandas_profiling import ProfileReport\n",
    "df = pd.read_csv(\"parametry.csv\",delimiter=\";\")\n",
    "df.dtypes\n",
    "#Cleaning\n",
    "\n",
    "\n",
    "\n",
    "df[\"Cena\"] = df[\"Cena\"].apply(lambda s :''.join([i for i in s if i.isdigit()]))\n",
    "df[\"Cena\"] = df[\"Cena\"].apply(pd.to_numeric)\n",
    "\n",
    "\n",
    "#dla technoligi 3d w przypdako brakow zakladmy ze nie \n",
    "\n",
    "\n",
    "\n",
    "df[\"Technologia 3D\"] = df[\"Technologia 3D\"].apply(lambda s : \"nie\" if s != \"tak\" else s)\n",
    "df[\"Technologia 3D\"] = df[\"Technologia 3D\"].map({'tak': True, 'nie': False})\n",
    "df[\"Technologia 3D\"] = df[\"Technologia 3D\"].convert_dtypes()\n",
    "#print(df[\"Technologia 3D\"] )\n",
    "#zmeinic przekonte na int\n",
    "\n",
    "#\n",
    "\n",
    "df[\"Przekątna ekranu\"] = df[\"Przekątna ekranu\"].apply(lambda s :''.join([i for i in s if i.isdigit()]))\n",
    "df[\"Przekątna ekranu\"] = df[\"Przekątna ekranu\"].apply(pd.to_numeric)\n",
    "#print(df[\"Przekątna ekranu\"] )\n",
    "#polaczyc rozdzielczosc i format hd\n",
    "#print(pd.crosstab(df[\"Rozdzielczość ekranu\"],df[\"Format HD\"]))\n",
    "#print(cramers_v(df[\"Rozdzielczość ekranu\"],df[\"Format HD\"]))\n",
    "#jak widac na macierzy korelacji i co potwierdza mienik korelacji v-cramera\n",
    "#rozdzielczosc i format hd sa silnie skolerowane, dlatego podam te dwie zmienne tranforamcji w jedna \n",
    "\n",
    "\n",
    "\n",
    "slownik = {'3840 x 2160': '4K UHD',\n",
    " '7680 x 4320': '8K UHD',\n",
    " '1920 x 1080': 'Full HD',\n",
    " '1366 x 768': 'HD Ready'}\n",
    "\n",
    "df['jakosc'] = df[[ 'Format HD','Rozdzielczość ekranu']].agg(';'.join, axis=1)\n",
    "\n",
    "df['jakosc'] = df['jakosc'].apply(\n",
    "    lambda s: s.split(sep = \";\")[0] if s.split(sep = \";\")[0] != \"-1\" and s.split(sep = \";\")[0] != \"inny\"\n",
    "    else slownik[s.split(sep = \";\")[1]])\n",
    "\n",
    "df[\"jakosc\"]=df[\"jakosc\"].astype('category')\n",
    "\n",
    "\n",
    "\n",
    "#zmienic liczbe zleczy hdmi na categorical \n",
    "df[\"Liczba złączy HDMI\"]=df[\"Liczba złączy HDMI\"].astype('category')\n",
    "\n",
    "\n",
    "\n",
    "\n",
    "#dla braku technologi HDR dac Nie \n",
    "df[\"Technologia HDR\"] =df[\"Technologia HDR\"].apply(lambda s: s if s != \"-1\" else \"Nie\")\n",
    "df[\"Technologia HDR\"]=df[\"Technologia HDR\"].astype('category')\n",
    "df[\"Technologia HDR\"].value_counts()\n",
    "\n",
    "#klasy efektrywnosci -1 zamienic na inna \n",
    "df[\"Klasa efektywności\"] = df[\"Klasa efektywności\"].apply(lambda s: s if s != \"-1\" else \"inna\").astype(\"category\")\n",
    "df[\"Klasa efektywności\"].value_counts()\n",
    "\n",
    "\n",
    "\n",
    "#przeksztalcic pobor mocy do int \n",
    "\n",
    "df[\"Pobór mocy\"] = df[\"Pobór mocy\"].apply(lambda s :''.join([i for i in s if i.isdigit()]))\n",
    "df[\"Pobór mocy\"] = df[\"Pobór mocy\"].apply(pd.to_numeric)\n",
    "\n",
    "\n",
    "\n",
    "# drop wagi \n",
    "df.drop([\"Waga produktu\", \"Rozdzielczość ekranu\",\"Format HD\"], axis=1 , inplace=True)\n",
    "\n",
    "\n",
    "df[\"Stan\"] = df[\"Stan\"].astype('category')\n",
    "df[\"Typ telewizora\"] = df[\"Typ telewizora\"].astype('category')\n",
    "\n",
    "\n",
    "#marka dla malo papularne zastapic inna \n",
    "count = df[\"Marka\"].value_counts()\n",
    "popular = count > count.mean()\n",
    "df[\"Marka\"] = df[\"Marka\"].apply(lambda row: row if popular[row] else \"inna\").astype(\"category\")\n",
    "df[\"Marka\"].value_counts()\n"
   ],
   "metadata": {
    "collapsed": false,
    "pycharm": {
     "name": "#%%\n",
     "is_executing": false
    }
   }
  },
  {
   "cell_type": "code",
   "execution_count": 73,
   "outputs": [],
   "source": [
    "regresion_data = pd.get_dummies(df, drop_first=True)\n",
    "#profile = ProfileReport(df,explorative=True)\n",
    "#profile"
   ],
   "metadata": {
    "collapsed": false,
    "pycharm": {
     "name": "#%%\n",
     "is_executing": false
    }
   }
  },
  {
   "cell_type": "code",
   "execution_count": 100,
   "outputs": [
    {
     "data": {
      "text/plain": "     Cena  Stan Typ telewizora    Marka  Technologia 3D  Przekątna ekranu  \\\n80  24000  Nowy           QLED  Samsung           False                82   \n\n   Liczba złączy HDMI Technologia HDR Klasa efektywności  Pobór mocy  jakosc  \n80                  4             Tak                  D         579  8K UHD  ",
      "text/html": "<div>\n<style scoped>\n    .dataframe tbody tr th:only-of-type {\n        vertical-align: middle;\n    }\n\n    .dataframe tbody tr th {\n        vertical-align: top;\n    }\n\n    .dataframe thead th {\n        text-align: right;\n    }\n</style>\n<table border=\"1\" class=\"dataframe\">\n  <thead>\n    <tr style=\"text-align: right;\">\n      <th></th>\n      <th>Cena</th>\n      <th>Stan</th>\n      <th>Typ telewizora</th>\n      <th>Marka</th>\n      <th>Technologia 3D</th>\n      <th>Przekątna ekranu</th>\n      <th>Liczba złączy HDMI</th>\n      <th>Technologia HDR</th>\n      <th>Klasa efektywności</th>\n      <th>Pobór mocy</th>\n      <th>jakosc</th>\n    </tr>\n  </thead>\n  <tbody>\n    <tr>\n      <th>80</th>\n      <td>24000</td>\n      <td>Nowy</td>\n      <td>QLED</td>\n      <td>Samsung</td>\n      <td>False</td>\n      <td>82</td>\n      <td>4</td>\n      <td>Tak</td>\n      <td>D</td>\n      <td>579</td>\n      <td>8K UHD</td>\n    </tr>\n  </tbody>\n</table>\n</div>"
     },
     "metadata": {},
     "output_type": "execute_result",
     "execution_count": 100
    }
   ],
   "source": [
    "df.loc[df[\"Klasa efektywności\"] == \"D\"]"
   ],
   "metadata": {
    "collapsed": false,
    "pycharm": {
     "name": "#%% \n",
     "is_executing": false
    }
   }
  },
  {
   "cell_type": "markdown",
   "source": [
    "<h3>Macierz korelacji \n",
    "\n"
   ],
   "metadata": {
    "collapsed": false
   }
  },
  {
   "cell_type": "markdown",
   "source": [
    "<h3>Model liniowy"
   ],
   "metadata": {
    "collapsed": false,
    "pycharm": {
     "name": "#%% md\n"
    }
   }
  },
  {
   "cell_type": "code",
   "execution_count": 102,
   "outputs": [],
   "source": [
    "import statsmodels.api as sm\n",
    "from statsmodels.sandbox.regression.predstd import wls_prediction_std\n",
    "import matplotlib.pyplot as plt\n",
    "\n"
   ],
   "metadata": {
    "collapsed": false,
    "pycharm": {
     "name": "#%%\n",
     "is_executing": false
    }
   }
  },
  {
   "cell_type": "code",
   "execution_count": 113,
   "outputs": [
    {
     "name": "stderr",
     "text": [
      "C:\\ProgramData\\Anaconda3\\lib\\site-packages\\statsmodels\\base\\model.py:1362: RuntimeWarning: invalid value encountered in true_divide\n  return self.params / self.bse\nC:\\ProgramData\\Anaconda3\\lib\\site-packages\\scipy\\stats\\_distn_infrastructure.py:903: RuntimeWarning: invalid value encountered in greater\n  return (a < x) & (x < b)\nC:\\ProgramData\\Anaconda3\\lib\\site-packages\\scipy\\stats\\_distn_infrastructure.py:903: RuntimeWarning: invalid value encountered in less\n  return (a < x) & (x < b)\nC:\\ProgramData\\Anaconda3\\lib\\site-packages\\scipy\\stats\\_distn_infrastructure.py:1912: RuntimeWarning: invalid value encountered in less_equal\n  cond2 = cond0 & (x <= _a)\n"
     ],
     "output_type": "stream"
    },
    {
     "data": {
      "text/plain": "<class 'statsmodels.iolib.summary.Summary'>\n\"\"\"\n                            OLS Regression Results                            \n==============================================================================\nDep. Variable:                   Cena   R-squared:                       0.861\nModel:                            OLS   Adj. R-squared:                  0.771\nMethod:                 Least Squares   F-statistic:                     9.611\nDate:                Sun, 07 Jun 2020   Prob (F-statistic):           1.03e-10\nTime:                        01:16:10   Log-Likelihood:                -547.79\nNo. Observations:                  70   AIC:                             1152.\nDf Residuals:                      42   BIC:                             1215.\nDf Model:                          27                                         \nCovariance Type:            nonrobust                                         \n===========================================================================================\n                              coef    std err          t      P>|t|      [0.025      0.975]\n-------------------------------------------------------------------------------------------\nconst                   -7636.5990   1785.942     -4.276      0.000   -1.12e+04   -4032.422\nTechnologia 3D            496.5176    602.201      0.825      0.414    -718.774    1711.809\nPrzekątna ekranu           91.3645     16.118      5.669      0.000      58.838     123.891\nPobór mocy                  6.2078      2.637      2.355      0.023       0.887      11.529\nStan_Po zwrocie          -523.5051    661.255     -0.792      0.433   -1857.972     810.962\nStan_Powystawowy         -860.3298    592.713     -1.452      0.154   -2056.473     335.814\nStan_Używany             -203.4281    320.501     -0.635      0.529    -850.224     443.368\nTyp telewizora_LED        645.5176    476.026      1.356      0.182    -315.142    1606.177\nTyp telewizora_OLED      1906.1140    964.099      1.977      0.055     -39.516    3851.744\nTyp telewizora_QLED      1784.0796    728.517      2.449      0.019     313.874    3254.286\nTyp telewizora_inny      2171.0318   1021.505      2.125      0.039     109.551    4232.512\nTyp telewizora_plazmowy  -857.5962    838.030     -1.023      0.312   -2548.810     833.617\nMarka_LG                 -225.7718    523.835     -0.431      0.669   -1282.914     831.371\nMarka_Philips             187.1260    630.847      0.297      0.768   -1085.976    1460.228\nMarka_Samsung             -64.8582    542.800     -0.119      0.905   -1160.273    1030.557\nMarka_Sony               -304.7794    626.983     -0.486      0.629   -1570.082     960.523\nMarka_inna                 65.6446    440.176      0.149      0.882    -822.666     953.955\nLiczba złączy HDMI_1     5077.1176   1319.695      3.847      0.000    2413.866    7740.369\nLiczba złączy HDMI_2     3788.8768   1198.986      3.160      0.003    1369.225    6208.528\nLiczba złączy HDMI_3     3559.0794   1183.823      3.006      0.004    1170.027    5948.131\nLiczba złączy HDMI_4     3767.2622   1261.668      2.986      0.005    1221.112    6313.412\nTechnologia HDR_Tak        73.8813    487.473      0.152      0.880    -909.879    1057.642\nKlasa efektywności_A+    -268.6837    260.491     -1.031      0.308    -794.375     257.008\nKlasa efektywności_B     -157.3050    736.701     -0.214      0.832   -1644.028    1329.417\nKlasa efektywności_C       96.0602   1133.549      0.085      0.933   -2191.534    2383.654\nKlasa efektywności_D     3.206e-14   8.07e-13      0.040      0.968    -1.6e-12    1.66e-12\nKlasa efektywności_inna   128.2238    386.899      0.331      0.742    -652.569     909.017\njakosc_8K UHD                    0          0        nan        nan           0           0\njakosc_Full HD             60.7717    483.509      0.126      0.901    -914.988    1036.532\njakosc_HD Ready           689.4465    565.415      1.219      0.230    -451.607    1830.500\n==============================================================================\nOmnibus:                       48.167   Durbin-Watson:                   1.481\nProb(Omnibus):                  0.000   Jarque-Bera (JB):              264.936\nSkew:                           1.865   Prob(JB):                     2.95e-58\nKurtosis:                      11.770   Cond. No.                     1.22e+16\n==============================================================================\n\nWarnings:\n[1] Standard Errors assume that the covariance matrix of the errors is correctly specified.\n[2] The smallest eigenvalue is 7.59e-27. This might indicate that there are\nstrong multicollinearity problems or that the design matrix is singular.\n\"\"\"",
      "text/html": "<table class=\"simpletable\">\n<caption>OLS Regression Results</caption>\n<tr>\n  <th>Dep. Variable:</th>          <td>Cena</td>       <th>  R-squared:         </th> <td>   0.861</td>\n</tr>\n<tr>\n  <th>Model:</th>                   <td>OLS</td>       <th>  Adj. R-squared:    </th> <td>   0.771</td>\n</tr>\n<tr>\n  <th>Method:</th>             <td>Least Squares</td>  <th>  F-statistic:       </th> <td>   9.611</td>\n</tr>\n<tr>\n  <th>Date:</th>             <td>Sun, 07 Jun 2020</td> <th>  Prob (F-statistic):</th> <td>1.03e-10</td>\n</tr>\n<tr>\n  <th>Time:</th>                 <td>01:16:10</td>     <th>  Log-Likelihood:    </th> <td> -547.79</td>\n</tr>\n<tr>\n  <th>No. Observations:</th>      <td>    70</td>      <th>  AIC:               </th> <td>   1152.</td>\n</tr>\n<tr>\n  <th>Df Residuals:</th>          <td>    42</td>      <th>  BIC:               </th> <td>   1215.</td>\n</tr>\n<tr>\n  <th>Df Model:</th>              <td>    27</td>      <th>                     </th>     <td> </td>   \n</tr>\n<tr>\n  <th>Covariance Type:</th>      <td>nonrobust</td>    <th>                     </th>     <td> </td>   \n</tr>\n</table>\n<table class=\"simpletable\">\n<tr>\n             <td></td>                <th>coef</th>     <th>std err</th>      <th>t</th>      <th>P>|t|</th>  <th>[0.025</th>    <th>0.975]</th>  \n</tr>\n<tr>\n  <th>const</th>                   <td>-7636.5990</td> <td> 1785.942</td> <td>   -4.276</td> <td> 0.000</td> <td>-1.12e+04</td> <td>-4032.422</td>\n</tr>\n<tr>\n  <th>Technologia 3D</th>          <td>  496.5176</td> <td>  602.201</td> <td>    0.825</td> <td> 0.414</td> <td> -718.774</td> <td> 1711.809</td>\n</tr>\n<tr>\n  <th>Przekątna ekranu</th>        <td>   91.3645</td> <td>   16.118</td> <td>    5.669</td> <td> 0.000</td> <td>   58.838</td> <td>  123.891</td>\n</tr>\n<tr>\n  <th>Pobór mocy</th>              <td>    6.2078</td> <td>    2.637</td> <td>    2.355</td> <td> 0.023</td> <td>    0.887</td> <td>   11.529</td>\n</tr>\n<tr>\n  <th>Stan_Po zwrocie</th>         <td> -523.5051</td> <td>  661.255</td> <td>   -0.792</td> <td> 0.433</td> <td>-1857.972</td> <td>  810.962</td>\n</tr>\n<tr>\n  <th>Stan_Powystawowy</th>        <td> -860.3298</td> <td>  592.713</td> <td>   -1.452</td> <td> 0.154</td> <td>-2056.473</td> <td>  335.814</td>\n</tr>\n<tr>\n  <th>Stan_Używany</th>            <td> -203.4281</td> <td>  320.501</td> <td>   -0.635</td> <td> 0.529</td> <td> -850.224</td> <td>  443.368</td>\n</tr>\n<tr>\n  <th>Typ telewizora_LED</th>      <td>  645.5176</td> <td>  476.026</td> <td>    1.356</td> <td> 0.182</td> <td> -315.142</td> <td> 1606.177</td>\n</tr>\n<tr>\n  <th>Typ telewizora_OLED</th>     <td> 1906.1140</td> <td>  964.099</td> <td>    1.977</td> <td> 0.055</td> <td>  -39.516</td> <td> 3851.744</td>\n</tr>\n<tr>\n  <th>Typ telewizora_QLED</th>     <td> 1784.0796</td> <td>  728.517</td> <td>    2.449</td> <td> 0.019</td> <td>  313.874</td> <td> 3254.286</td>\n</tr>\n<tr>\n  <th>Typ telewizora_inny</th>     <td> 2171.0318</td> <td> 1021.505</td> <td>    2.125</td> <td> 0.039</td> <td>  109.551</td> <td> 4232.512</td>\n</tr>\n<tr>\n  <th>Typ telewizora_plazmowy</th> <td> -857.5962</td> <td>  838.030</td> <td>   -1.023</td> <td> 0.312</td> <td>-2548.810</td> <td>  833.617</td>\n</tr>\n<tr>\n  <th>Marka_LG</th>                <td> -225.7718</td> <td>  523.835</td> <td>   -0.431</td> <td> 0.669</td> <td>-1282.914</td> <td>  831.371</td>\n</tr>\n<tr>\n  <th>Marka_Philips</th>           <td>  187.1260</td> <td>  630.847</td> <td>    0.297</td> <td> 0.768</td> <td>-1085.976</td> <td> 1460.228</td>\n</tr>\n<tr>\n  <th>Marka_Samsung</th>           <td>  -64.8582</td> <td>  542.800</td> <td>   -0.119</td> <td> 0.905</td> <td>-1160.273</td> <td> 1030.557</td>\n</tr>\n<tr>\n  <th>Marka_Sony</th>              <td> -304.7794</td> <td>  626.983</td> <td>   -0.486</td> <td> 0.629</td> <td>-1570.082</td> <td>  960.523</td>\n</tr>\n<tr>\n  <th>Marka_inna</th>              <td>   65.6446</td> <td>  440.176</td> <td>    0.149</td> <td> 0.882</td> <td> -822.666</td> <td>  953.955</td>\n</tr>\n<tr>\n  <th>Liczba złączy HDMI_1</th>    <td> 5077.1176</td> <td> 1319.695</td> <td>    3.847</td> <td> 0.000</td> <td> 2413.866</td> <td> 7740.369</td>\n</tr>\n<tr>\n  <th>Liczba złączy HDMI_2</th>    <td> 3788.8768</td> <td> 1198.986</td> <td>    3.160</td> <td> 0.003</td> <td> 1369.225</td> <td> 6208.528</td>\n</tr>\n<tr>\n  <th>Liczba złączy HDMI_3</th>    <td> 3559.0794</td> <td> 1183.823</td> <td>    3.006</td> <td> 0.004</td> <td> 1170.027</td> <td> 5948.131</td>\n</tr>\n<tr>\n  <th>Liczba złączy HDMI_4</th>    <td> 3767.2622</td> <td> 1261.668</td> <td>    2.986</td> <td> 0.005</td> <td> 1221.112</td> <td> 6313.412</td>\n</tr>\n<tr>\n  <th>Technologia HDR_Tak</th>     <td>   73.8813</td> <td>  487.473</td> <td>    0.152</td> <td> 0.880</td> <td> -909.879</td> <td> 1057.642</td>\n</tr>\n<tr>\n  <th>Klasa efektywności_A+</th>   <td> -268.6837</td> <td>  260.491</td> <td>   -1.031</td> <td> 0.308</td> <td> -794.375</td> <td>  257.008</td>\n</tr>\n<tr>\n  <th>Klasa efektywności_B</th>    <td> -157.3050</td> <td>  736.701</td> <td>   -0.214</td> <td> 0.832</td> <td>-1644.028</td> <td> 1329.417</td>\n</tr>\n<tr>\n  <th>Klasa efektywności_C</th>    <td>   96.0602</td> <td> 1133.549</td> <td>    0.085</td> <td> 0.933</td> <td>-2191.534</td> <td> 2383.654</td>\n</tr>\n<tr>\n  <th>Klasa efektywności_D</th>    <td> 3.206e-14</td> <td> 8.07e-13</td> <td>    0.040</td> <td> 0.968</td> <td> -1.6e-12</td> <td> 1.66e-12</td>\n</tr>\n<tr>\n  <th>Klasa efektywności_inna</th> <td>  128.2238</td> <td>  386.899</td> <td>    0.331</td> <td> 0.742</td> <td> -652.569</td> <td>  909.017</td>\n</tr>\n<tr>\n  <th>jakosc_8K UHD</th>           <td>         0</td> <td>        0</td> <td>      nan</td> <td>   nan</td> <td>        0</td> <td>        0</td>\n</tr>\n<tr>\n  <th>jakosc_Full HD</th>          <td>   60.7717</td> <td>  483.509</td> <td>    0.126</td> <td> 0.901</td> <td> -914.988</td> <td> 1036.532</td>\n</tr>\n<tr>\n  <th>jakosc_HD Ready</th>         <td>  689.4465</td> <td>  565.415</td> <td>    1.219</td> <td> 0.230</td> <td> -451.607</td> <td> 1830.500</td>\n</tr>\n</table>\n<table class=\"simpletable\">\n<tr>\n  <th>Omnibus:</th>       <td>48.167</td> <th>  Durbin-Watson:     </th> <td>   1.481</td>\n</tr>\n<tr>\n  <th>Prob(Omnibus):</th> <td> 0.000</td> <th>  Jarque-Bera (JB):  </th> <td> 264.936</td>\n</tr>\n<tr>\n  <th>Skew:</th>          <td> 1.865</td> <th>  Prob(JB):          </th> <td>2.95e-58</td>\n</tr>\n<tr>\n  <th>Kurtosis:</th>      <td>11.770</td> <th>  Cond. No.          </th> <td>1.22e+16</td>\n</tr>\n</table><br/><br/>Warnings:<br/>[1] Standard Errors assume that the covariance matrix of the errors is correctly specified.<br/>[2] The smallest eigenvalue is 7.59e-27. This might indicate that there are<br/>strong multicollinearity problems or that the design matrix is singular."
     },
     "metadata": {},
     "output_type": "execute_result",
     "execution_count": 113
    }
   ],
   "source": [
    "Y = regresion_data[\"Cena\"]\n",
    "Y = Y[:70]\n",
    "X = regresion_data.iloc[:70,1:]\n",
    "X = sm.add_constant(X).astype(float)\n",
    "\n",
    "model = sm.OLS(Y,X)\n",
    "result = model.fit()\n",
    "\n",
    "result.summary()"
   ],
   "metadata": {
    "collapsed": false,
    "pycharm": {
     "name": "#%%\n",
     "is_executing": false
    }
   }
  },
  {
   "cell_type": "code",
   "execution_count": null,
   "outputs": [],
   "source": [],
   "metadata": {
    "collapsed": false,
    "pycharm": {
     "name": "#%%\n"
    }
   }
  },
  {
   "cell_type": "markdown",
   "source": [
    "<h3> Wstepna analiza modelu "
   ],
   "metadata": {
    "collapsed": false
   }
  },
  {
   "cell_type": "code",
   "execution_count": 115,
   "outputs": [
    {
     "data": {
      "text/plain": "[<matplotlib.lines.Line2D at 0x205c919f888>]"
     },
     "metadata": {},
     "output_type": "execute_result",
     "execution_count": 115
    },
    {
     "data": {
      "text/plain": "<Figure size 576x432 with 1 Axes>",
      "image/png": "[encoded data removed]"
     },
     "metadata": {},
     "output_type": "display_data"
    }
   ],
   "source": [
    "prstd, iv_l, iv_u = wls_prediction_std(result)\n",
    "fig, ax = plt.subplots(figsize=(8,6))\n",
    "ax.plot(Y, df[\"Przekątna ekranu\"][:70], \"go\" )\n",
    "ax.plot(result.fittedvalues,df[\"Przekątna ekranu\"][:70], 'r--.')"
   ],
   "metadata": {
    "collapsed": false,
    "pycharm": {
     "name": "#%%\n",
     "is_executing": false
    }
   }
  },
  {
   "cell_type": "markdown",
   "source": [
    "<h3> Poprawki do modelu\n",
    "\n"
   ],
   "metadata": {
    "collapsed": false
   }
  },
  {
   "cell_type": "markdown",
   "source": [
    "\n",
    "<h3> Wybór modelu \n"
   ],
   "metadata": {
    "collapsed": false
   }
  },
  {
   "cell_type": "markdown",
   "source": [
    "<h3>Testowanie Modelu oraz Pełny opis</h3>\n",
    "\n",
    "*  Współczynnik determinacji.\n",
    "*  Efekt katalizy.\n",
    "*  Normalność rozkładu składnika losowego.\n",
    "*  Istotność zmiennych.\n",
    "*  Testy dodanych (pominiętych zmiennych).\n",
    "*  Obserwacje odstające.\n",
    "*  Test liczby serii (uporządkować obserwacje!!).\n",
    "*  Test RESET.19.Testowanie heteroskeastyczności.\n",
    "*  Test Chowa (wraz z komentarzem na temat podziału próbki na dwie grupy).\n",
    "*  Współliniowość.\n",
    "*  Koincydencja.\n",
    "*  Interpretacja parametrów modelu (tam gdzie trzeba elastyczność).\n",
    "*  redykcjawraz z 95% przedziałem ufności.\n"
   ],
   "metadata": {
    "collapsed": false
   }
  }
 ],
 "metadata": {
  "kernelspec": {
   "display_name": "Python 3",
   "language": "python",
   "name": "python3"
  },
  "language_info": {
   "codemirror_mode": {
    "name": "ipython",
    "version": 2
   },
   "file_extension": ".py",
   "mimetype": "text/x-python",
   "name": "python",
   "nbconvert_exporter": "python",
   "pygments_lexer": "ipython2",
   "version": "2.7.6"
  },
  "pycharm": {
   "stem_cell": {
    "cell_type": "raw",
    "source": [
     "\n",
     "\n"
    ],
    "metadata": {
     "collapsed": false
    }
   }
  }
 },
 "nbformat": 4,
 "nbformat_minor": 0
}