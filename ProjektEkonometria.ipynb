{
 "cells": [
  {
   "cell_type": "markdown",
   "source": [
    "<h1>Projket ekonometrtia</h1>\n",
    "<h2>Uczelnia itd</h2>\n",
    "<h2>Mateusz Jakubczak</h2>\n"
   ],
   "metadata": {
    "collapsed": false
   }
  },
  {
   "cell_type": "markdown",
   "source": [
    "Cytowania \n",
    "\n",
    "@inproceedings{seabold2010statsmodels,\n",
    "  title={statsmodels: Econometric and statistical modeling with python},\n",
    "  author={Seabold, Skipper and Perktold, Josef},\n",
    "  booktitle={9th Python in Science Conference},\n",
    "  year={2010},\n",
    "}\n",
    "\n"
   ],
   "metadata": {
    "collapsed": false
   }
  },
  {
   "cell_type": "markdown",
   "source": [
    "<h3>Abstrakt cell projektu, hipoteza badawcza \n",
    "\n"
   ],
   "metadata": {
    "collapsed": false
   }
  },
  {
   "cell_type": "markdown",
   "source": [
    "<h3>Pobieranie danych\n"
   ],
   "metadata": {
    "collapsed": false
   }
  },
  {
   "cell_type": "code",
   "execution_count": 67,
   "outputs": [],
   "source": [
    "import requests\n",
    "from bs4 import BeautifulSoup\n",
    "import re"
   ],
   "metadata": {
    "collapsed": false,
    "pycharm": {
     "name": "#%%\n",
     "is_executing": false
    }
   }
  },
  {
   "cell_type": "code",
   "execution_count": 161,
   "outputs": [],
   "source": [
    "#pare zmiennych globalnych \n",
    "links = [\"https://allegro.pl/oferta/telewizor-samsung-qe82q60ratxxh-smarttv-4k-uhd-hdr-8853937876?reco_id=267804b7-a5b3-11ea-93bc-246e9677f348&sid=041047f9c36843e364ecb91b45c568a2755aa386fe7e14ee7421a14291fbf951\",\n",
    "         \"https://allegro.pl/oferta/telewizor-samsung-qled-qe65q64r-uhd-4k-hdr-smarttv-8910088969?reco_id=f02ffda3-a5b2-11ea-9b1a-b02628c80a20&sid=041047f9c36843e364ecb91b45c568a2755aa386fe7e14ee7421a14291fbf951\",\n",
    "         \"https://allegro.pl/oferta/telewizor-samsung-qled-qe55q64r-uhd-4k-smart-7940286514?reco_id=2edd61c8-a656-11ea-b9a8-b026284c6b30&sid=041047f9c36843e364ecb91b45c568a2755aa386fe7e14ee7421a14291fbf951\",\n",
    "         \"https://allegro.pl/oferta/telewizor-samsung-qled-qe55q64r-uhd-4k-smart-7940286514?bi_s=ads&bi_m=showitem%3Aactive&bi_c=YWQ4NTI0MTgtNDJmZS00YWJkLThiMTQtNzhkMTU1OWRjNzc0AA&bi_t=ape&referrer=proxy&emission_unit_id=94df9dc1-8f74-4895-bb42-fd9e7cce95f3\",\n",
    "         \"https://allegro.pl/oferta/telewizor-philips-oled-55oled754-uhd-4k-hdr-tv-9040359348?reco_id=11b919b2-a696-11ea-a97b-b02628c846f0&sid=041047f9c36843e364ecb91b45c568a2755aa386fe7e14ee7421a14291fbf951\",\n",
    "         \"https://allegro.pl/oferta/kiano-slim-tv-telewizor-22-cale-full-hd-pro-hotel-8899736103?bi_s=ads&bi_m=listing%3Adesktop%3Aqueryandcategory&bi_c=ODYwMmZiNmEtNmU4My00YWE4LTk4ZmItZTllZDI3YjJkNTdhAA&bi_t=ape&referrer=proxy&emission_unit_id=21dbb0ea-ffcd-41a2-8115-e6a3257cc4f5\"]\n",
    "znaczniki ={\"Cena\":\"_1svub _lf05o _9a071_2MEB_\"}\n",
    "\n",
    "lista_parametrów = [\"Stan\",\"Typ telewizora\",\"Marka\",\n",
    "                    \"Technologia 3D\", \"Przekątna ekranu\",\n",
    "                    \"Format HD\",\"Rozdzielczość ekranu\",\n",
    "                    \"Liczba złączy HDMI\", \"Technologia HDR\",\n",
    "                    \"Klasa efektywności\",\"Pobór mocy\",\n",
    "                    \"Waga produktu\"\n",
    "                    ]"
   ],
   "metadata": {
    "collapsed": false,
    "pycharm": {
     "name": "#%% \n",
     "is_executing": false
    }
   }
  },
  {
   "cell_type": "code",
   "execution_count": 162,
   "outputs": [
    {
     "name": "stdout",
     "text": [
      "9 999\n['Nowy', 'QLED', 'Samsung', 'nie', '82\"', '4K UHD', '3840 x 2160', '4', 'Tak', 'A', '228 W', '46.8 kg']\n",
      "4 499\n['Nowy', 'QLED', 'Samsung', 'nie', '65\"', '4K UHD', '3840 x 2160', '4', 'Tak', 'A+', '118 W', '26 kg']\n",
      "3 299\nNie ma takiego parametru, parametr Waga produktu\n['Nowy', 'QLED', 'Samsung', 'nie', '55\"', '4K UHD', '3840 x 2160', '4', 'Tak', 'A', '111 W', -1]\n",
      "3 299\nNie ma takiego parametru, parametr Waga produktu\n['Nowy', 'QLED', 'Samsung', 'nie', '55\"', '4K UHD', '3840 x 2160', '4', 'Tak', 'A', '111 W', -1]\n",
      "4 999\n['Nowy', 'OLED', 'Philips', 'nie', '55\"', '4K UHD', '3840 x 2160', '4', 'Tak', 'B', '140 W', '21.2 kg']\n",
      "399\nNie ma takiego parametru, parametr Waga produktu\n['Nowy', 'LED', 'Kiano', 'brak informacji', '22\"', 'Full HD', '1920 x 1080', '1', 'Nie', 'inna', '36 W', -1]\n"
     ],
     "output_type": "stream"
    }
   ],
   "source": [
    "for link in links:\n",
    "    response = requests.get(link)\n",
    "   # print(response)\n",
    "    \n",
    "    # znalazeinei ceny \n",
    "    soup = BeautifulSoup(response.content,'html.parser')\n",
    "    #nalezalo by zastapic lepszym wyszukaniem\n",
    "    cena = soup.find(class_=znaczniki[\"Cena\"] )\n",
    "    # przejsc do dolu dwa razy po pierwszym elemencie \n",
    "    cena = cena.contents[0].contents[0]\n",
    "    print(cena)\n",
    "    #zanjdowanie tabeli parametrow \n",
    "    pattern = re.compile(r'Parametry')\n",
    "    tabela = soup.find(\"h2\",text= pattern)\n",
    "    #do gory dwa poziomy \n",
    "    tabela = tabela.parent.parent\n",
    "    parmaetry = []\n",
    "    for param in lista_parametrów:\n",
    "        try:\n",
    "            #najpier znajdz czy jest pole ktore nazywa sie dokladnie tak\n",
    "            stan_field = tabela.find(text = param)\n",
    "            #jesli nie ma takiego pola znajdz pierwsze które nazywa sie podobnie\n",
    "            if stan_field == None:  stan_field = tabela.find(text = re.compile(rf\"{param}\"))\n",
    "            #up two nodes in tree then select content of second one\n",
    "            stan_field = stan_field.parent.parent.contents[1].contents[0]\n",
    "            try:\n",
    "                if stan_field.contents != None : stan_field = stan_field.contents[0]\n",
    "            except:AttributeError   #dla pól co zawieraja w sobie linka \n",
    "        except:\n",
    "            AttributeError \n",
    "            print(f\"Nie ma takiego parametru, parametr {param}\") \n",
    "            stan_field = -1\n",
    "        parmaetry.append(stan_field)\n",
    "        \n",
    "    print(parmaetry)"
   ],
   "metadata": {
    "collapsed": false,
    "pycharm": {
     "name": "#%%\n",
     "is_executing": false
    }
   }
  },
  {
   "cell_type": "markdown",
   "source": [
    "<h3>Staystyki opisowe\n",
    "\n"
   ],
   "metadata": {
    "collapsed": false,
    "pycharm": {
     "name": "#%% md\n"
    }
   }
  },
  {
   "cell_type": "markdown",
   "source": [
    "<h3>Macierz korelacji \n",
    "\n"
   ],
   "metadata": {
    "collapsed": false
   }
  },
  {
   "cell_type": "markdown",
   "source": [
    "<h3>Model liniowy\n",
    "\n"
   ],
   "metadata": {
    "collapsed": false,
    "pycharm": {
     "name": "#%% md\n"
    }
   }
  },
  {
   "cell_type": "markdown",
   "source": [
    "<h3> Wstepna analiza modelu \n",
    "\n"
   ],
   "metadata": {
    "collapsed": false
   }
  },
  {
   "cell_type": "markdown",
   "source": [
    "<h3> Poprawki do modelu\n",
    "\n"
   ],
   "metadata": {
    "collapsed": false
   }
  },
  {
   "cell_type": "markdown",
   "source": [
    "\n",
    "<h3> Wybór modelu \n"
   ],
   "metadata": {
    "collapsed": false
   }
  },
  {
   "cell_type": "markdown",
   "source": [
    "<h3>Testowanie Modelu oraz Pełny opis</h3>\n",
    "\n",
    "*  Współczynnik determinacji.\n",
    "*  Efekt katalizy.\n",
    "*  Normalność rozkładu składnika losowego.\n",
    "*  Istotność zmiennych.\n",
    "*  Testy dodanych (pominiętych zmiennych).\n",
    "*  Obserwacje odstające.\n",
    "*  Test liczby serii (uporządkować obserwacje!!).\n",
    "*  Test RESET.19.Testowanie heteroskeastyczności.\n",
    "*  Test Chowa (wraz z komentarzem na temat podziału próbki na dwie grupy).\n",
    "*  Współliniowość.\n",
    "*  Koincydencja.\n",
    "*  Interpretacja parametrów modelu (tam gdzie trzeba elastyczność).\n",
    "*  redykcjawraz z 95% przedziałem ufności.\n"
   ],
   "metadata": {
    "collapsed": false
   }
  }
 ],
 "metadata": {
  "kernelspec": {
   "display_name": "Python 3",
   "language": "python",
   "name": "python3"
  },
  "language_info": {
   "codemirror_mode": {
    "name": "ipython",
    "version": 2
   },
   "file_extension": ".py",
   "mimetype": "text/x-python",
   "name": "python",
   "nbconvert_exporter": "python",
   "pygments_lexer": "ipython2",
   "version": "2.7.6"
  },
  "pycharm": {
   "stem_cell": {
    "cell_type": "raw",
    "source": [
     "\n",
     "\n"
    ],
    "metadata": {
     "collapsed": false
    }
   }
  }
 },
 "nbformat": 4,
 "nbformat_minor": 0
}