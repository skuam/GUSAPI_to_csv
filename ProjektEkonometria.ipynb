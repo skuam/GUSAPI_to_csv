{
 "cells": [
  {
   "cell_type": "markdown",
   "source": [
    "<h1>Projket ekonometrtia</h1>\n",
    "<h2>Uczelnia itd</h2>\n",
    "<h2>Mateusz Jakubczak</h2>\n"
   ],
   "metadata": {
    "collapsed": false
   }
  },
  {
   "cell_type": "markdown",
   "source": [
    "Cytowania \n",
    "\n",
    "@inproceedings{seabold2010statsmodels,\n",
    "  title={statsmodels: Econometric and statistical modeling with python},\n",
    "  author={Seabold, Skipper and Perktold, Josef},\n",
    "  booktitle={9th Python in Science Conference},\n",
    "  year={2010},\n",
    "}\n",
    "\n"
   ],
   "metadata": {
    "collapsed": false
   }
  },
  {
   "cell_type": "markdown",
   "source": [
    "<h3>Abstrakt cell projektu, hipoteza badawcza \n",
    "\n"
   ],
   "metadata": {
    "collapsed": false
   }
  },
  {
   "cell_type": "markdown",
   "source": [
    "<h3>Pobieranie danych\n"
   ],
   "metadata": {
    "collapsed": false
   }
  },
  {
   "cell_type": "code",
   "execution_count": 45,
   "outputs": [],
   "source": [
    "import requests\n",
    "from bs4 import BeautifulSoup\n",
    "import re\n",
    "import csv\n",
    "import os\n",
    "import unicodecsv\n",
    "import pandas as pd"
   ],
   "metadata": {
    "collapsed": false,
    "pycharm": {
     "name": "#%%\n",
     "is_executing": false
    }
   }
  },
  {
   "cell_type": "code",
   "execution_count": 54,
   "outputs": [
    {
     "name": "stdout",
     "text": [
      "https://allegro.pl/oferta/telewizor-samsung-qe82q60ratxxh-smarttv-4k-uhd-hdr-8853937876?reco_id=267804b7-a5b3-11ea-93bc-246e9677f348&sid=041047f9c36843e364ecb91b45c568a2755aa386fe7e14ee7421a14291fbf951\nhttps://allegro.pl/oferta/telewizor-samsung-qled-qe65q64r-uhd-4k-hdr-smarttv-8910088969?reco_id=f02ffda3-a5b2-11ea-9b1a-b02628c80a20&sid=041047f9c36843e364ecb91b45c568a2755aa386fe7e14ee7421a14291fbf951\nhttps://allegro.pl/oferta/telewizor-samsung-qled-qe55q64r-uhd-4k-smart-7940286514?reco_id=2edd61c8-a656-11ea-b9a8-b026284c6b30&sid=041047f9c36843e364ecb91b45c568a2755aa386fe7e14ee7421a14291fbf951\nhttps://allegro.pl/oferta/telewizor-samsung-qled-qe55q64r-uhd-4k-smart-7940286514?bi_s=ads&bi_m=showitem%3Aactive&bi_c=YWQ4NTI0MTgtNDJmZS00YWJkLThiMTQtNzhkMTU1OWRjNzc0AA&bi_t=ape&referrer=proxy&emission_unit_id=94df9dc1-8f74-4895-bb42-fd9e7cce95f3\nhttps://allegro.pl/oferta/telewizor-philips-oled-55oled754-uhd-4k-hdr-tv-9040359348?reco_id=11b919b2-a696-11ea-a97b-b02628c846f0&sid=041047f9c36843e364ecb91b45c568a2755aa386fe7e14ee7421a14291fbf951\nhttps://allegro.pl/oferta/kiano-slim-tv-telewizor-22-cale-full-hd-pro-hotel-8899736103?bi_s=ads&bi_m=listing%3Adesktop%3Aqueryandcategory&bi_c=ODYwMmZiNmEtNmU4My00YWE4LTk4ZmItZTllZDI3YjJkNTdhAA&bi_t=ape&referrer=proxy&emission_unit_id=21dbb0ea-ffcd-41a2-8115-e6a3257cc4f5\nhttps://allegro.pl/events/clicks?emission_unit_id=41eea7bc-c5bd-42ad-ad50-1d7a639d3129&type=OFFER&ts=1591393909331&redirect=https%3A%2F%2Fallegro.pl%2Foferta%2Ftelewizor-43-samsung-qe43q60ra-qled-4k-smart-tv-9219142911%3Fbi_s%3Dads%26bi_m%3Dlisting%253Adesktop%253Aqueryandcategory%26bi_c%3DNDQ2NTk4OTctMDdlNC00ZWViLTk0OWItYWRkZGRlYzNhNDg0AA%26bi_t%3Dape&placement=listing:desktop:queryandcategory&sig=c0115cd6b96d8a0523e8e2d5de65ce59\nhttps://allegro.pl/events/clicks?emission_unit_id=f13c2853-edf3-43ce-a801-dd7eaa283153&type=OFFER&ts=1591393909331&redirect=https%3A%2F%2Fallegro.pl%2Foferta%2Ftelewizor-le-32z2-tuner-satelitarny-tryb-hotelowy-8860159216%3Fbi_s%3Dads%26bi_m%3Dlisting%253Adesktop%253Aqueryandcategory%26bi_c%3DZDFiYzJmNWItYWM0Zi00YWNhLWE2YTUtZWExYzBmNjRhNzgxAA%26bi_t%3Dape&placement=listing:desktop:queryandcategory&sig=c17e2a08868b890a017aef38d4bf1283\nhttps://allegro.pl/oferta/telewizor-40-samsung-lh40dme-8944726118https://allegro.pl/oferta/telewizor-40-samsung-lh40dme-8944726118\nhttps://allegro.pl/oferta/telewizor-lin-led-32lhd1220-smart-tv-wifi-9017599778\nhttps://allegro.pl/oferta/smart-tv-65-lg-oled65b6v-4k-uhd-hdr-100-hz-9077284487\nhttps://allegro.pl/oferta/telewizor-lin-led-32d1200-hd-hdmi-usb-9017646182\nhttps://allegro.pl/oferta/telewizor-samsung-ue75ru7172uxxh-4k-uhd-75-8677831861\nhttps://allegro.pl/oferta/telewizor-samsung-ue50ru7172-smarttv-4k-uhd-8612881568\nhttps://allegro.pl/oferta/telewizor-qled-65-samsung-qe65q60ra-4k-uhd-smarttv-8104159552\nhttps://allegro.pl/oferta/telewizor-qled-65-samsung-qe65q60ra-4k-uhd-smarttv-8104159552\nhttps://allegro.pl/oferta/telewizor-32-opticum-32mh2500-dvb-t2-h-265-hdmi-9029281305\nhttps://allegro.pl/oferta/telewizor-20-z-dvd-hdmi-pilot-gwarancja-8526549601\nhttps://allegro.pl/oferta/telewizor-20-z-dvd-hdmi-pilot-gwarancja-8526549601\nhttps://allegro.pl/oferta/40-hisense-4k-smart-mpeg-4-gwarancja-tanio-9314817173\nhttps://allegro.pl/oferta/telewizor-40-kruger-matz-fullhd-smart-7856105603\nhttps://allegro.pl/oferta/smart-tv-lg-50-50uk6400-4k-uhd-hdr-webos-wifi-9340192054\nhttps://allegro.pl/oferta/telewizor-led-32-manta-32lha69-hd-smart-tv-8416184918\nhttps://allegro.pl/oferta/telewizor-led-32-xiaomi-mi-tv-4a-android-tv-9165563907\nhttps://allegro.pl/oferta/telewizor-lg-oled65b7v-fv-23-sklep-65-oled-9258354566\nhttps://allegro.pl/oferta/telewizor-led-32-skymaster-32sh4530-hd-usb-hdmi-8545024761\nhttps://allegro.pl/oferta/telewizor-32-kruger-matz-hd-smart-tv-dvb-t2-9102668475\nhttps://allegro.pl/oferta/android-tv-55-philips-55pus7502-4k-hdr-ambilight-9266642671\nhttps://allegro.pl/oferta/telewizor-samsung-qe65q64rat-4k-uhd-smart-tv-wi-fi-9324859743\nhttps://allegro.pl/oferta/telewizor-manta-50-4k-smart-tv-wi-fi-android-9137808737\nhttps://allegro.pl/oferta/telewizor-50-kruger-matz-4k-ultra-hd-smart-8612024177\nhttps://allegro.pl/oferta/telewizor-32-kruger-matz-2xhdmi-usb-dvb-t2-7476589840\nhttps://allegro.pl/events/clicks?emission_unit_id=bf92f082-d28e-4ed8-b274-91808ad2f043&type=OFFER&ts=1591393909331&redirect=https%3A%2F%2Fallegro.pl%2Foferta%2Ftelewizor-plazmowy-nec-plasmasync-px-60xm5g-60-8657502307%3Fbi_s%3Dads%26bi_m%3Dlisting%253Adesktop%253Aqueryandcategory%26bi_c%3DNzZlMWI4ZTAtODRmOS00YzQ3LTliZWMtYTg1NWY1YzU1OTdlAA%26bi_t%3Dape&placement=listing:desktop:queryandcategory&sig=d65b0e59bcd13db396781ae526c5ee5b\nhttps://allegro.pl/oferta/telewizor-75-lg-75uk6200-4k-ultra-hd-hit-9260188546\nhttps://allegro.pl/oferta/telewizor-led-50-samsung-ue50ru7092-4k-uhd-smart-8309766354\nhttps://allegro.pl/oferta/telewizor-lg-43um7600plb-aeu-4k-smart-tv-hdr-9266750137\nhttps://allegro.pl/oferta/telewizor-qled-samsung-65-qe65q60ra-4k-uhd-8878976834\nhttps://allegro.pl/oferta/telewizor-led-32-lg-32lk510b-hd-hdmi-usb-8718766061\nhttps://allegro.pl/oferta/telewizor-samsung-55-ue55ru7172-4k-uhd-smart-tv-9093414739\nhttps://allegro.pl/oferta/telewizor-xiaomi-mi-tv-4s-55-4k-android-tv-9236504534\nhttps://allegro.pl/oferta/telewizor-22-full-hd-kruger-matz-hdmi-usb-8974627340\nhttps://allegro.pl/oferta/telewizor-40-kruger-matz-smart-hdmi-usb-wifi-7860433744\nhttps://allegro.pl/oferta/telewizor-led-43-thomson-43ud6306-4k-uhd-smart-tv-8994520253\nhttps://allegro.pl/oferta/samsung-qled-qe65q60r-4k-uhd-smart-tv-3000hz-hdr-8920874737\nhttps://allegro.pl/oferta/telewizor-led-40pfh4509-88-pilot-1137-20-8977917927\nhttps://allegro.pl/oferta/telewizor-55-samsung-qe55q90ralxxn-qled-4k-hdr-8637240048\nhttps://allegro.pl/oferta/telewizor-samsung-ue43tu7002-smart-tv-2176-20-9281914414\nhttps://allegro.pl/oferta/telewizor-26-samsung-7871497081\nhttps://allegro.pl/oferta/telewizor-lg-55lf592v-smart-tv-ultra-slim-led-9212163772\nhttps://allegro.pl/oferta/telewizor-sony-bravia-kd-55xf7005-4k-uhd-55-cali-9275765909\nhttps://allegro.pl/oferta/46-samsung-hdmi-3xusb-full-hd-mpeg-4-smart-3d-9325423380\nhttps://allegro.pl/events/clicks?emission_unit_id=4c44fe46-14ed-4036-aa75-6883a12450cb&type=OFFER&ts=1591394475912&redirect=https%3A%2F%2Fallegro.pl%2Foferta%2Ftelewizor-55-samsung-qe55q7fna-qled-4k-hdr-8637379952%3Fbi_s%3Dads%26bi_m%3Dlisting%253Adesktop%253Aqueryandcategory%26bi_c%3DMTVlODM1MjktNmVlYy00NGY1LWJlOTQtYzAzNDE2NDM4MDgzAA%26bi_t%3Dape&placement=listing:desktop:queryandcategory&sig=153769bbc60027afc3688e3e0cbec4a4\nhttps://allegro.pl/oferta/tv-led-philips-42-42pfl5028h-9282988862\nhttps://allegro.pl/oferta/telewizor-sharp-lc-32le140e-9061507672\nhttps://allegro.pl/oferta/46-sony-4xhdmi-usb-full-hd-mpeg4-3d-gwarancja-9325253863\nhttps://allegro.pl/oferta/samsung-smart-tv-led-uhd-tv-ue55ju6050u-9340580782\nhttps://allegro.pl/oferta/50-sharp-smart-full-hd-mpeg4-netflix-okazja-9325444844\nhttps://allegro.pl/oferta/telewizor-42-tv-philips-bdl4231c-hdmi-8492924381\nhttps://allegro.pl/oferta/telewizor-philips-43pus6523-12-smart-tv-pilot-9339447053\nhttps://allegro.pl/oferta/tv-led-40-cali-s0ny-bravia-kdl-40r450b-100hz-9350383643\nhttps://allegro.pl/oferta/samsung-40-led-smart-smart-wi-fi-ue40h6400-netflix-9158368135\nhttps://allegro.pl/oferta/tv-lg-42-cale-42lc51-za-pilot-uchwyt-na-sciane-9198248638\nhttps://allegro.pl/oferta/tv-plazma-60-lg-60pz950s-smart-tv-3d-topowy-7095043789\nhttps://allegro.pl/oferta/telewizor-kiano-led-slim-tv-22-8931287014\nhttps://allegro.pl/oferta/tv-plazma-42-cale-panasonic-tx-p42x20e-100hz-9285770544\nhttps://allegro.pl/oferta/telewizor-sony-bravia-kdl-40r450b-2237-20-9296921060\nhttps://allegro.pl/events/clicks?emission_unit_id=db9b50a9-888c-43c4-b19d-8e65d3130254&type=OFFER&ts=1591394668183&redirect=https%3A%2F%2Fallegro.pl%2Foferta%2Ftelewizor-32-samsung-lt32e310exq-va-dvb-t2-c-8856785481%3Fbi_s%3Dads%26bi_m%3Dlisting%253Adesktop%253Aqueryandcategory%26bi_c%3DMTVlODM1MjktNmVlYy00NGY1LWJlOTQtYzAzNDE2NDM4MDgzAA%26bi_t%3Dape&placement=listing:desktop:queryandcategory&sig=12822f9cd972f88e217128220281140f\nhttps://allegro.pl/oferta/telewizor-monitor-37-full-hd-samsung-le37m87bd-7921917690\nhttps://allegro.pl/oferta/tv-led-medion-life-p12313-40-md-31107-8697622589\nhttps://allegro.pl/oferta/samsung-smart-tv-led-3d-37-um37es6100-pilot-8661304390\nhttps://allegro.pl/oferta/tv-plazma-lg-42pc51-42-cale-100hz-hd-stan-idealny-9320312573\nhttps://allegro.pl/oferta/smart-tv-led-sony-48-ultra-slim-200hz-kdl-48w705c-9277129220\nhttps://allegro.pl/oferta/smart-tv-telewizor-lg-50-50lf652v-led-3d-wi-fi-9337273043\nhttps://allegro.pl/oferta/telewizor-sony-bravia-kd-55xf7005-4k-uhd-55-cali-9275765909\nhttps://allegro.pl/oferta/telewizor-lg-75-75sm9900pla-nanocell-8k-hdr-9109179661\nhttps://allegro.pl/oferta/samsung-qe75q85ra-4k-ultra-hd-smart-8977511503\nhttps://allegro.pl/oferta/lg-75sm9000-190-5-cm-75-4k-ultra-hd-smart-9171721220\nhttps://allegro.pl/oferta/telewizor-samsung-qe-75q60tauxxh-qled-quantum-hdr-9315597656\nhttps://allegro.pl/oferta/samsung-75-qled-qe75q950r-smarttv-ultra-hd-8k-9092400952\nhttps://allegro.pl/oferta/samsung-qe75q950r-qled-8k-smart-tv-megaobraz-sklep-9243427608\nhttps://allegro.pl/oferta/telewizor-lg-75sm9900-nanocell-8k-smart-tv-9315497352\nhttps://allegro.pl/oferta/samsung-gq82q950r-nowosc-2019-8k-hdr-okazja-9353294665\n"
     ],
     "output_type": "stream"
    }
   ],
   "source": [
    "#pare zmiennych globalnych \n",
    "\n",
    "\n",
    "with open(\"linki.csv\",newline=\"\") as csvfile:\n",
    "    reader = csv.reader(csvfile)\n",
    "    links2 = list(reader)\n",
    " \n",
    "links =  [item for sublist in links2[1:] for item in sublist]\n",
    "\n",
    "znaczniki ={\"Cena\":\"_1svub _lf05o _9a071_2MEB_\"}\n",
    "\n",
    "lista_parametrów = [\"Cena\",\"Stan\",\"Typ telewizora\",\"Marka\",\n",
    "                    \"Technologia 3D\", \"Przekątna ekranu\",\n",
    "                    \"Format HD\",\"Rozdzielczość ekranu\",\n",
    "                    \"Liczba złączy HDMI\", \"Technologia HDR\",\n",
    "                    \"Klasa efektywności\",\"Pobór mocy\",\n",
    "                    \"Waga produktu\"\n",
    "                    ]\n",
    "\n",
    "\n",
    "with open(os.path.join(os.getcwd(), 'parametry.csv'), 'wb') as csvfile:\n",
    "    writer = unicodecsv.DictWriter(csvfile, fieldnames = lista_parametrów , delimiter = ';')\n",
    "    writer.writeheader()\n",
    "    "
   ],
   "metadata": {
    "collapsed": false,
    "pycharm": {
     "name": "#%% \n",
     "is_executing": false
    }
   }
  },
  {
   "cell_type": "code",
   "execution_count": 58,
   "outputs": [
    {
     "name": "stdout",
     "text": [
      "Nie ma takiego parametru, parametr Waga produktu\n",
      "Nie ma takiego parametru, parametr Waga produktu\n",
      "Nie ma takiego parametru, parametr Waga produktu\n",
      "Nie ma takiego parametru, parametr Format HD\nNie ma takiego parametru, parametr Technologia HDR\nNie ma takiego parametru, parametr Waga produktu\n",
      "https://allegro.pl/oferta/telewizor-40-samsung-lh40dme-8944726118https://allegro.pl/oferta/telewizor-40-samsung-lh40dme-8944726118\n",
      "Nie ma takiego parametru, parametr Waga produktu\n",
      "Nie ma takiego parametru, parametr Waga produktu\n",
      "Nie ma takiego parametru, parametr Waga produktu\n",
      "Nie ma takiego parametru, parametr Waga produktu\n",
      "Nie ma takiego parametru, parametr Waga produktu\n",
      "Nie ma takiego parametru, parametr Technologia HDR\nNie ma takiego parametru, parametr Waga produktu\n",
      "Nie ma takiego parametru, parametr Waga produktu\n",
      "Nie ma takiego parametru, parametr Waga produktu\n",
      "Nie ma takiego parametru, parametr Waga produktu\n",
      "Nie ma takiego parametru, parametr Waga produktu\n",
      "Nie ma takiego parametru, parametr Waga produktu\n",
      "Nie ma takiego parametru, parametr Technologia HDR\n",
      "Nie ma takiego parametru, parametr Technologia 3D\nNie ma takiego parametru, parametr Technologia HDR\nNie ma takiego parametru, parametr Klasa efektywności\nNie ma takiego parametru, parametr Pobór mocy\nNie ma takiego parametru, parametr Waga produktu\n",
      "Nie ma takiego parametru, parametr Technologia HDR\n",
      "Nie ma takiego parametru, parametr Waga produktu\n",
      "Nie ma takiego parametru, parametr Technologia HDR\nNie ma takiego parametru, parametr Waga produktu\n",
      "Nie ma takiego parametru, parametr Technologia 3D\nNie ma takiego parametru, parametr Technologia HDR\nNie ma takiego parametru, parametr Klasa efektywności\nNie ma takiego parametru, parametr Pobór mocy\nNie ma takiego parametru, parametr Waga produktu\n",
      "Nie ma takiego parametru, parametr Format HD\nNie ma takiego parametru, parametr Technologia HDR\nNie ma takiego parametru, parametr Waga produktu\n",
      "Nie ma takiego parametru, parametr Waga produktu\n",
      "Nie ma takiego parametru, parametr Waga produktu\n",
      "Nie ma takiego parametru, parametr Technologia HDR\nNie ma takiego parametru, parametr Waga produktu\n",
      "Nie ma takiego parametru, parametr Waga produktu\n",
      "Nie ma takiego parametru, parametr Technologia HDR\nNie ma takiego parametru, parametr Pobór mocy\nNie ma takiego parametru, parametr Waga produktu\n",
      "Nie ma takiego parametru, parametr Waga produktu\n",
      "Nie ma takiego parametru, parametr Format HD\nNie ma takiego parametru, parametr Technologia HDR\nNie ma takiego parametru, parametr Waga produktu\n",
      "Nie ma takiego parametru, parametr Pobór mocy\n",
      "Nie ma takiego parametru, parametr Technologia HDR\nNie ma takiego parametru, parametr Pobór mocy\nNie ma takiego parametru, parametr Waga produktu\n",
      "Nie ma takiego parametru, parametr Technologia 3D\nNie ma takiego parametru, parametr Format HD\nNie ma takiego parametru, parametr Technologia HDR\nNie ma takiego parametru, parametr Klasa efektywności\nNie ma takiego parametru, parametr Pobór mocy\nNie ma takiego parametru, parametr Waga produktu\n",
      "Nie ma takiego parametru, parametr Technologia HDR\nNie ma takiego parametru, parametr Waga produktu\n",
      "Nie ma takiego parametru, parametr Format HD\nNie ma takiego parametru, parametr Technologia HDR\nNie ma takiego parametru, parametr Waga produktu\n",
      "Nie ma takiego parametru, parametr Technologia HDR\n",
      "Nie ma takiego parametru, parametr Technologia HDR\n",
      "Nie ma takiego parametru, parametr Format HD\nNie ma takiego parametru, parametr Technologia HDR\nNie ma takiego parametru, parametr Waga produktu\n",
      "Nie ma takiego parametru, parametr Technologia HDR\n",
      "Nie ma takiego parametru, parametr Waga produktu\n",
      "Nie ma takiego parametru, parametr Format HD\nNie ma takiego parametru, parametr Technologia HDR\nNie ma takiego parametru, parametr Waga produktu\n",
      "Nie ma takiego parametru, parametr Technologia HDR\nNie ma takiego parametru, parametr Waga produktu\n",
      "Nie ma takiego parametru, parametr Technologia HDR\n",
      "Nie ma takiego parametru, parametr Technologia 3D\nNie ma takiego parametru, parametr Technologia HDR\nNie ma takiego parametru, parametr Klasa efektywności\nNie ma takiego parametru, parametr Pobór mocy\nNie ma takiego parametru, parametr Waga produktu\n",
      "Nie ma takiego parametru, parametr Format HD\nNie ma takiego parametru, parametr Technologia HDR\nNie ma takiego parametru, parametr Waga produktu\n"
     ],
     "output_type": "stream"
    }
   ],
   "source": [
    "for link in links:\n",
    "    parmaetry = []\n",
    "    response = requests.get(link)\n",
    "   # print(response)\n",
    "    \n",
    "    # znalazeinei ceny \n",
    "    soup = BeautifulSoup(response.content,'html.parser')\n",
    "    #nalezalo by zastapic lepszym wyszukaniem\n",
    "    try:\n",
    "        cena = soup.find(class_=znaczniki[\"Cena\"] )\n",
    "        # przejsc do dolu dwa razy po pierwszym elemencie \n",
    "        cena = cena.contents[0].contents[0]\n",
    "    except:\n",
    "        AttributeError\n",
    "        print(link)\n",
    "        continue\n",
    "    parmaetry.append(cena)\n",
    "    #zanjdowanie tabeli parametrow \n",
    "    pattern = re.compile(r'Parametry')\n",
    "    tabela = soup.find(\"h2\",text= pattern)\n",
    "    #do gory dwa poziomy \n",
    "    tabela = tabela.parent.parent\n",
    "   \n",
    "    for param in lista_parametrów[1:]:\n",
    "        try:\n",
    "            #najpier znajdz czy jest pole ktore nazywa sie dokladnie tak\n",
    "            stan_field = tabela.find(text = param)\n",
    "            #jesli nie ma takiego pola znajdz pierwsze które nazywa sie podobnie\n",
    "            if stan_field == None:  stan_field = tabela.find(text = re.compile(rf\"{param}\"))\n",
    "            #jesli nie znalioziona to wpisac -1\n",
    "            if stan_field == None: stan_field = -1\n",
    "            #up two nodes in tree then select content of second one\n",
    "            stan_field = stan_field.parent.parent.contents[1].contents[0]\n",
    "            try:\n",
    "                if stan_field.contents != None : stan_field = stan_field.contents[0]\n",
    "            except:\n",
    "                AttributeError   #dla pól co zawieraja w sobie linka \n",
    "        except:\n",
    "            AttributeError \n",
    "            print(f\"Nie ma takiego parametru, parametr {param}\") \n",
    "            stan_field = -1\n",
    "        parmaetry.append(stan_field)\n",
    "    with open('parametry.csv', 'ab') as csvfile:\n",
    "        writer = unicodecsv.DictWriter(csvfile, fieldnames = lista_parametrów , delimiter = ';')\n",
    "        writer.writerow(dict(zip(lista_parametrów,parmaetry)))"
   ],
   "metadata": {
    "collapsed": false,
    "pycharm": {
     "name": "#%%\n",
     "is_executing": false
    }
   }
  },
  {
   "cell_type": "markdown",
   "source": [
    "<h3>Staystyki opisowe\n",
    "\n"
   ],
   "metadata": {
    "collapsed": false,
    "pycharm": {
     "name": "#%% md\n"
    }
   }
  },
  {
   "cell_type": "markdown",
   "source": [
    "<h3>Macierz korelacji \n",
    "\n"
   ],
   "metadata": {
    "collapsed": false
   }
  },
  {
   "cell_type": "markdown",
   "source": [
    "<h3>Model liniowy\n",
    "\n"
   ],
   "metadata": {
    "collapsed": false,
    "pycharm": {
     "name": "#%% md\n"
    }
   }
  },
  {
   "cell_type": "markdown",
   "source": [
    "<h3> Wstepna analiza modelu \n",
    "\n"
   ],
   "metadata": {
    "collapsed": false
   }
  },
  {
   "cell_type": "markdown",
   "source": [
    "<h3> Poprawki do modelu\n",
    "\n"
   ],
   "metadata": {
    "collapsed": false
   }
  },
  {
   "cell_type": "markdown",
   "source": [
    "\n",
    "<h3> Wybór modelu \n"
   ],
   "metadata": {
    "collapsed": false
   }
  },
  {
   "cell_type": "markdown",
   "source": [
    "<h3>Testowanie Modelu oraz Pełny opis</h3>\n",
    "\n",
    "*  Współczynnik determinacji.\n",
    "*  Efekt katalizy.\n",
    "*  Normalność rozkładu składnika losowego.\n",
    "*  Istotność zmiennych.\n",
    "*  Testy dodanych (pominiętych zmiennych).\n",
    "*  Obserwacje odstające.\n",
    "*  Test liczby serii (uporządkować obserwacje!!).\n",
    "*  Test RESET.19.Testowanie heteroskeastyczności.\n",
    "*  Test Chowa (wraz z komentarzem na temat podziału próbki na dwie grupy).\n",
    "*  Współliniowość.\n",
    "*  Koincydencja.\n",
    "*  Interpretacja parametrów modelu (tam gdzie trzeba elastyczność).\n",
    "*  redykcjawraz z 95% przedziałem ufności.\n"
   ],
   "metadata": {
    "collapsed": false
   }
  }
 ],
 "metadata": {
  "kernelspec": {
   "display_name": "Python 3",
   "language": "python",
   "name": "python3"
  },
  "language_info": {
   "codemirror_mode": {
    "name": "ipython",
    "version": 2
   },
   "file_extension": ".py",
   "mimetype": "text/x-python",
   "name": "python",
   "nbconvert_exporter": "python",
   "pygments_lexer": "ipython2",
   "version": "2.7.6"
  },
  "pycharm": {
   "stem_cell": {
    "cell_type": "raw",
    "source": [
     "\n",
     "\n"
    ],
    "metadata": {
     "collapsed": false
    }
   }
  }
 },
 "nbformat": 4,
 "nbformat_minor": 0
}